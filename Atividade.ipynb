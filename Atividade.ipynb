{
  "nbformat": 4,
  "nbformat_minor": 0,
  "metadata": {
    "colab": {
      "provenance": [],
      "authorship_tag": "ABX9TyOFJoV40GutsVGeCzyoWqKR",
      "include_colab_link": true
    },
    "kernelspec": {
      "name": "python3",
      "display_name": "Python 3"
    },
    "language_info": {
      "name": "python"
    }
  },
  "cells": [
    {
      "cell_type": "markdown",
      "metadata": {
        "id": "view-in-github",
        "colab_type": "text"
      },
      "source": [
        "<a href=\"https://colab.research.google.com/github/mariadeodato/ATIVIDADE-01/blob/main/Atividade.ipynb\" target=\"_parent\"><img src=\"https://colab.research.google.com/assets/colab-badge.svg\" alt=\"Open In Colab\"/></a>"
      ]
    },
    {
      "cell_type": "markdown",
      "source": [
        "\n",
        "Imprima na tela apenas os números ímpares entre 1 e 50"
      ],
      "metadata": {
        "id": "v38NGV8oVY2j"
      }
    },
    {
      "cell_type": "code",
      "source": [
        "\n",
        "for num in range (1,51,2):\n",
        "  #início em 1,pulando de 2 em 2\n",
        "  print(num)"
      ],
      "metadata": {
        "id": "gSf8xCNy_0nY",
        "colab": {
          "base_uri": "https://localhost:8080/"
        },
        "outputId": "c77d1039-2951-4bc3-fc6b-c357b3901df1"
      },
      "execution_count": 2,
      "outputs": [
        {
          "output_type": "stream",
          "name": "stdout",
          "text": [
            "1\n",
            "3\n",
            "5\n",
            "7\n",
            "9\n",
            "11\n",
            "13\n",
            "15\n",
            "17\n",
            "19\n",
            "21\n",
            "23\n",
            "25\n",
            "27\n",
            "29\n",
            "31\n",
            "33\n",
            "35\n",
            "37\n",
            "39\n",
            "41\n",
            "43\n",
            "45\n",
            "47\n",
            "49\n"
          ]
        }
      ]
    },
    {
      "cell_type": "markdown",
      "source": [
        "Faça um programa que exiba em tela os números abaixo\n",
        "1 4 7 10 13 16 19 22 25 28 31 34 37 40"
      ],
      "metadata": {
        "id": "U4uJaUc7WOuE"
      }
    },
    {
      "cell_type": "code",
      "source": [
        "for num in range(1,41,3):\n",
        "    print(num)"
      ],
      "metadata": {
        "colab": {
          "base_uri": "https://localhost:8080/"
        },
        "id": "cuLZoy2bWsFT",
        "outputId": "7ca925bd-b8fa-456a-9272-905eb8316de1"
      },
      "execution_count": 5,
      "outputs": [
        {
          "output_type": "stream",
          "name": "stdout",
          "text": [
            "1\n",
            "4\n",
            "7\n",
            "10\n",
            "13\n",
            "16\n",
            "19\n",
            "22\n",
            "25\n",
            "28\n",
            "31\n",
            "34\n",
            "37\n",
            "40\n"
          ]
        }
      ]
    },
    {
      "cell_type": "markdown",
      "source": [
        " Exiba os números pares de 0 a 30 com exceção 10,20 e 30"
      ],
      "metadata": {
        "id": "-xWwPWbIX1jl"
      }
    },
    {
      "cell_type": "code",
      "source": [
        "for num in range (0,30,2):\n",
        "  if num != 10 and num != 20:\n",
        "    print(num)"
      ],
      "metadata": {
        "colab": {
          "base_uri": "https://localhost:8080/"
        },
        "id": "ElXdPNRjX7V-",
        "outputId": "ee6ecc91-f336-4215-b3ae-f6edad2a29a0"
      },
      "execution_count": 10,
      "outputs": [
        {
          "output_type": "stream",
          "name": "stdout",
          "text": [
            "0\n",
            "2\n",
            "4\n",
            "6\n",
            "8\n",
            "12\n",
            "14\n",
            "16\n",
            "18\n",
            "22\n",
            "24\n",
            "26\n",
            "28\n"
          ]
        }
      ]
    }
  ]
}